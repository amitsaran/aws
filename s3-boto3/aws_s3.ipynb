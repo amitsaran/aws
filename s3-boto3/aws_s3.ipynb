{
 "cells": [
  {
   "cell_type": "markdown",
   "metadata": {},
   "source": [
    "# Config"
   ]
  },
  {
   "cell_type": "code",
   "execution_count": null,
   "metadata": {
    "collapsed": false
   },
   "outputs": [],
   "source": []
  },
  {
   "cell_type": "code",
   "execution_count": null,
   "metadata": {},
   "outputs": [],
   "source": [
    "#!pip install boto3\n",
    "#from IPython.display import clear_output\n",
    "#clear_output(wait=True)"
   ]
  },
  {
   "cell_type": "code",
   "execution_count": null,
   "metadata": {},
   "outputs": [],
   "source": [
    "import json\n",
    "\n",
    "def init(config_file):\n",
    "    response = {}\n",
    "    with open(config_file) as json_file: \n",
    "        response = json.load(json_file)        \n",
    "    return response"
   ]
  },
  {
   "cell_type": "markdown",
   "metadata": {},
   "source": [
    "# Class for AWS S3"
   ]
  },
  {
   "cell_type": "code",
   "execution_count": null,
   "metadata": {
    "collapsed": false
   },
   "outputs": [],
   "source": [
    "import boto3\n",
    "import os\n",
    "\n",
    "class AWSS3:\n",
    "    def __init__(self, config):\n",
    "        self._config = config\n",
    "        self._s3_client = self.s3_client()\n",
    "        self._s3_resource = self.s3_resource()\n",
    "        \n",
    "\n",
    "    def s3_client(self):\n",
    "        return boto3.client(\n",
    "            's3',\n",
    "            aws_access_key_id = self._config['ACCESS_KEY'],\n",
    "            aws_secret_access_key = self._config['SECRET_KEY'],\n",
    "            region_name = self._config['REGION']\n",
    "        )\n",
    "    \n",
    "    \n",
    "    def s3_resource(self):\n",
    "        return boto3.resource(\n",
    "            's3',\n",
    "            aws_access_key_id = self._config['ACCESS_KEY'],\n",
    "            aws_secret_access_key = self._config['SECRET_KEY'],\n",
    "            region_name = self._config['REGION']\n",
    "        )\n",
    "    \n",
    "    \n",
    "    def list_buckets(self):\n",
    "        return self._s3_client.list_buckets()\n",
    "    \n",
    "    \n",
    "    def list_s3_objects_bucket(self, bucket_name: str):\n",
    "        response = {}\n",
    "        try:\n",
    "            response = self._s3_client.list_objects(Bucket = bucket_name)\n",
    "        except ClientError as e:\n",
    "            logging.error(e)\n",
    "            return response\n",
    "        \n",
    "        for bucket in response['Contents']:\n",
    "                print(bucket[\"Key\"])\n",
    "                \n",
    "        return response\n",
    "    \n",
    "    \n",
    "    def get_bucket_policy(self, bucket_name):\n",
    "        return self._s3_client.get_bucket_policy(Bucket=bucket_name)\n",
    "    \n",
    "\n",
    "    def create_bucket(self, bucket_name, location = ''):\n",
    "        try: \n",
    "            response = {}\n",
    "            if((len(location) == 0) or (location == 'us-east-1')):\n",
    "                response = self._s3_client.create_bucket(Bucket=bucket_name)\n",
    "            else:\n",
    "                response = self._s3_client.create_bucket(\n",
    "                    Bucket=bucket_name,\n",
    "                    CreateBucketConfiguration={\n",
    "                        'LocationConstraint': location\n",
    "                    }\n",
    "                )\n",
    "        except Exception as e:\n",
    "            print(\"Oops!\", e.__class__, \"occurred.\")        \n",
    "        return response\n",
    "    \n",
    "    \n",
    "    def delete_bucket(self, bucket_name):\n",
    "        return self._s3_client.delete_bucket(Bucket=bucket_name)\n",
    "    \n",
    "    \n",
    "    def delete_object(self, bucket_name, key_name):\n",
    "     res = self._s3_client.delete_object(Bucket=bucket_name, Key=key_name)\n",
    "    \n",
    "    \n",
    "    def update_bucket_policy(self, bucket_name):\n",
    "        bucket_policy = {\n",
    "            'Version': '2012-10-17',\n",
    "            'Statement': [\n",
    "                {\n",
    "                    'Sid': 'AddPerm',\n",
    "                    'Effect': 'Allow',\n",
    "                    'Principal': '*',\n",
    "                    'Action': [\n",
    "                        's3:DeleteObject',\n",
    "                        's3:GetObject',\n",
    "                        's3:PutObject'\n",
    "                    ],\n",
    "                    'Resource': 'arn:aws:s3:::' + bucket_name + '/*'\n",
    "                }\n",
    "            ]\n",
    "        }\n",
    "\n",
    "        policy_string = json.dumps(bucket_policy)\n",
    "\n",
    "        return self._s3_client.put_bucket_policy(\n",
    "            Bucket=bucket_name,\n",
    "            Policy=policy_string\n",
    "        )\n",
    "    \n",
    "    \n",
    "    def upload_file(self, bucket_name, file_path, key_name, content_type):\n",
    "        return self._s3_client.upload_file(file_path, bucket_name, key_name,\n",
    "                                           ExtraArgs={'ACL': 'public-read',\n",
    "                                                      'ContentType': content_type,\n",
    "                                                      'ContentDisposition': 'inline'\n",
    "                                                     }\n",
    "                                          )\n",
    "    \n"
   ]
  },
  {
   "cell_type": "code",
   "execution_count": null,
   "metadata": {
    "collapsed": false
   },
   "outputs": [],
   "source": [
    "config = init('./aws.config')\n",
    "aws_s3 = AWSS3(config)"
   ]
  },
  {
   "cell_type": "code",
   "execution_count": null,
   "metadata": {
    "collapsed": false
   },
   "outputs": [],
   "source": [
    "#aws_s3.create_bucket('test19802021', 'us-west-2')\n",
    "#aws_s3.create_bucket('test19802022', 'us-west-2')\n",
    "aws_s3.create_bucket('test19802020', 'us-east-1')\n",
    "aws_s3.create_bucket('test19802021')"
   ]
  },
  {
   "cell_type": "code",
   "execution_count": null,
   "metadata": {
    "collapsed": true
   },
   "outputs": [],
   "source": [
    "aws_s3.update_bucket_policy('test19802020')\n",
    "aws_s3.upload_file('test19802020', os.getcwd() + os.path.sep + 'documents' + os.path.sep + 'index.html',\n",
    "                   'index.html', 'text/html')\n",
    "aws_s3.upload_file('test19802020', os.getcwd() + os.path.sep + 'documents' + os.path.sep + 'page2.html',\n",
    "                   'page2.html', 'text/html')\n",
    "aws_s3.upload_file('test19802020', os.getcwd() + os.path.sep + 'documents' + os.path.sep + '0.jpeg',\n",
    "                   '0.jpeg', 'image/jpeg')\n"
   ]
  },
  {
   "cell_type": "code",
   "execution_count": null,
   "metadata": {
    "collapsed": true
   },
   "outputs": [],
   "source": [
    "aws_s3.delete_object('test19802020', 'page2.html')\n",
    "aws_s3.delete_bucket('test19802021')"
   ]
  },
  {
   "cell_type": "code",
   "execution_count": null,
   "metadata": {
    "collapsed": true
   },
   "outputs": [],
   "source": []
  }
 ],
 "metadata": {
  "anaconda-cloud": {},
  "kernelspec": {
   "display_name": "Python [conda root]",
   "language": "python",
   "name": "conda-root-py"
  },
  "language_info": {
   "codemirror_mode": {
    "name": "ipython",
    "version": 3
   },
   "file_extension": ".py",
   "mimetype": "text/x-python",
   "name": "python",
   "nbconvert_exporter": "python",
   "pygments_lexer": "ipython3",
   "version": "3.5.2"
  }
 },
 "nbformat": 4,
 "nbformat_minor": 1
}